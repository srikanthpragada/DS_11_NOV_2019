{
 "cells": [
  {
   "cell_type": "markdown",
   "metadata": {},
   "source": [
    "## Test Model on user input"
   ]
  },
  {
   "cell_type": "code",
   "execution_count": 1,
   "metadata": {},
   "outputs": [],
   "source": [
    "import pandas as pd"
   ]
  },
  {
   "cell_type": "code",
   "execution_count": 2,
   "metadata": {},
   "outputs": [],
   "source": [
    "# Unpickle model and use it for predicting chances \n",
    "model = pd.read_pickle('lr_model.pickle')"
   ]
  },
  {
   "cell_type": "code",
   "execution_count": 3,
   "metadata": {},
   "outputs": [
    {
     "name": "stdout",
     "output_type": "stream",
     "text": [
      "Probability of getting admission is : 48.3195871596735% \n",
      "Probability of getting admission is : 84.4182965311573% \n"
     ]
    }
   ],
   "source": [
    "data = [[295,120,7],[325,120,9]]\n",
    "result = model.predict(data)\n",
    "for r in result:\n",
    "    print(f\"Probability of getting admission is : {r*100}% \")  "
   ]
  },
  {
   "cell_type": "code",
   "execution_count": 5,
   "metadata": {},
   "outputs": [
    {
     "name": "stdin",
     "output_type": "stream",
     "text": [
      "Enter GRE  :   300\n",
      "Enter Toefl:   120\n",
      "Enter CGPA :   8.5\n"
     ]
    },
    {
     "name": "stdout",
     "output_type": "stream",
     "text": [
      "70.96602642572934\n"
     ]
    }
   ],
   "source": [
    "## take input from user and display chances\n",
    "gre = int(input(\"Enter GRE  :  \"))\n",
    "tof = int(input(\"Enter Toefl:  \"))\n",
    "cgpa = float(input(\"Enter CGPA :  \"))\n",
    "chance = model.predict( [[gre,tof,cgpa]])\n",
    "print(chance[0] * 100)"
   ]
  },
  {
   "cell_type": "code",
   "execution_count": null,
   "metadata": {},
   "outputs": [],
   "source": []
  }
 ],
 "metadata": {
  "kernelspec": {
   "display_name": "Python 3",
   "language": "python",
   "name": "python3"
  },
  "language_info": {
   "codemirror_mode": {
    "name": "ipython",
    "version": 3
   },
   "file_extension": ".py",
   "mimetype": "text/x-python",
   "name": "python",
   "nbconvert_exporter": "python",
   "pygments_lexer": "ipython3",
   "version": "3.7.3"
  }
 },
 "nbformat": 4,
 "nbformat_minor": 4
}
