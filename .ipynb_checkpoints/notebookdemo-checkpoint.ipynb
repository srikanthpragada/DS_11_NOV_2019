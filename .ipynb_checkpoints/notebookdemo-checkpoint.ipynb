{
 "cells": [
  {
   "cell_type": "code",
   "execution_count": 4,
   "metadata": {
    "collapsed": true,
    "jupyter": {
     "outputs_hidden": true
    }
   },
   "outputs": [],
   "source": [
    "a = 100\n",
    "b = 200"
   ]
  },
  {
   "cell_type": "code",
   "execution_count": 5,
   "metadata": {
    "collapsed": true,
    "jupyter": {
     "outputs_hidden": true
    }
   },
   "outputs": [
    {
     "data": {
      "text/plain": [
       "(100, 200)"
      ]
     },
     "execution_count": 5,
     "metadata": {},
     "output_type": "execute_result"
    }
   ],
   "source": [
    "a,b"
   ]
  },
  {
   "cell_type": "code",
   "execution_count": 6,
   "metadata": {
    "collapsed": true,
    "jupyter": {
     "outputs_hidden": true
    }
   },
   "outputs": [
    {
     "name": "stdout",
     "output_type": "stream",
     "text": [
      "100 200\n"
     ]
    }
   ],
   "source": [
    "print(a,b)"
   ]
  },
  {
   "cell_type": "markdown",
   "metadata": {},
   "source": [
    "## Notebook Demo"
   ]
  },
  {
   "cell_type": "raw",
   "metadata": {},
   "source": [
    "A simple RAW cell "
   ]
  },
  {
   "cell_type": "code",
   "execution_count": 7,
   "metadata": {
    "collapsed": true,
    "jupyter": {
     "outputs_hidden": true
    }
   },
   "outputs": [
    {
     "name": "stdout",
     "output_type": "stream",
     "text": [
      "2019-11-15 17:16:11.190625\n"
     ]
    }
   ],
   "source": [
    "from datetime import datetime\n",
    "print(datetime.now())"
   ]
  },
  {
   "cell_type": "code",
   "execution_count": 12,
   "metadata": {
    "collapsed": true,
    "jupyter": {
     "outputs_hidden": true
    }
   },
   "outputs": [],
   "source": [
    "import requests"
   ]
  },
  {
   "cell_type": "code",
   "execution_count": 13,
   "metadata": {
    "collapsed": true,
    "jupyter": {
     "outputs_hidden": true
    }
   },
   "outputs": [],
   "source": [
    "resp = requests.get(\"http://www.srikanthtechnologies.com\")"
   ]
  },
  {
   "cell_type": "markdown",
   "metadata": {},
   "source": [
    "## Markdown demo"
   ]
  },
  {
   "cell_type": "markdown",
   "metadata": {},
   "source": [
    "<a href=\"http://www.srikanthtechnologies.com\">My Website</a>"
   ]
  },
  {
   "cell_type": "markdown",
   "metadata": {},
   "source": [
    "**bold**\n",
    "\n",
    "*Italic*"
   ]
  },
  {
   "cell_type": "markdown",
   "metadata": {},
   "source": [
    "`a = b + c  is the formula`"
   ]
  },
  {
   "cell_type": "markdown",
   "metadata": {},
   "source": [
    "- first\n",
    "* second\n",
    "   1. Jan\n",
    "   1. Feb"
   ]
  },
  {
   "cell_type": "markdown",
   "metadata": {},
   "source": [
    "***"
   ]
  },
  {
   "cell_type": "markdown",
   "metadata": {},
   "source": [
    "<ul>\n",
    "<li>First</li>\n",
    "<li>Second\n",
    "    <ol>\n",
    "      <li>Jan</li>\n",
    "      <li>Feb</li>\n",
    "    </ol>\n",
    "</ul>        "
   ]
  },
  {
   "cell_type": "markdown",
   "metadata": {},
   "source": [
    "<div class=\"alert alert-block alert-danger\">This is alert box</div>"
   ]
  },
  {
   "cell_type": "markdown",
   "metadata": {},
   "source": [
    "### shell commands "
   ]
  },
  {
   "cell_type": "code",
   "execution_count": 17,
   "metadata": {
    "collapsed": true,
    "jupyter": {
     "outputs_hidden": true
    }
   },
   "outputs": [
    {
     "name": "stdout",
     "output_type": "stream",
     "text": [
      "E:\\classroom\\ds\\nov11\n"
     ]
    }
   ],
   "source": [
    "!cd"
   ]
  },
  {
   "cell_type": "code",
   "execution_count": 25,
   "metadata": {
    "collapsed": true,
    "jupyter": {
     "outputs_hidden": true
    }
   },
   "outputs": [
    {
     "name": "stdout",
     "output_type": "stream",
     "text": [
      "First\n",
      "Second\n",
      "Third\n",
      "Fourth\n",
      "Fifth\n"
     ]
    }
   ],
   "source": [
    "! type names.txt"
   ]
  },
  {
   "cell_type": "code",
   "execution_count": 26,
   "metadata": {
    "collapsed": true,
    "jupyter": {
     "outputs_hidden": true
    }
   },
   "outputs": [],
   "source": [
    "names = !type names.txt"
   ]
  },
  {
   "cell_type": "code",
   "execution_count": 27,
   "metadata": {
    "collapsed": true,
    "jupyter": {
     "outputs_hidden": true
    }
   },
   "outputs": [
    {
     "data": {
      "text/plain": [
       "['First', 'Second', 'Third', 'Fourth', 'Fifth']"
      ]
     },
     "execution_count": 27,
     "metadata": {},
     "output_type": "execute_result"
    }
   ],
   "source": [
    "names"
   ]
  },
  {
   "cell_type": "code",
   "execution_count": 30,
   "metadata": {
    "collapsed": true,
    "jupyter": {
     "outputs_hidden": true
    }
   },
   "outputs": [
    {
     "name": "stdout",
     "output_type": "stream",
     "text": [
      "First\n",
      "Second\n",
      "Third\n",
      "Fourth\n",
      "Fifth\n"
     ]
    }
   ],
   "source": [
    "filename = 'names.txt'\n",
    "! type {filename}"
   ]
  },
  {
   "cell_type": "code",
   "execution_count": 3,
   "metadata": {
    "collapsed": true,
    "jupyter": {
     "outputs_hidden": true
    }
   },
   "outputs": [
    {
     "name": "stdout",
     "output_type": "stream",
     "text": [
      "E:\\classroom\\ds\\nov11\n"
     ]
    }
   ],
   "source": [
    "! cd"
   ]
  },
  {
   "cell_type": "code",
   "execution_count": 5,
   "metadata": {
    "collapsed": true,
    "jupyter": {
     "outputs_hidden": true
    }
   },
   "outputs": [
    {
     "data": {
      "text/plain": [
       "'C:\\\\Users\\\\srika'"
      ]
     },
     "execution_count": 5,
     "metadata": {},
     "output_type": "execute_result"
    }
   ],
   "source": [
    "%pwd"
   ]
  },
  {
   "cell_type": "code",
   "execution_count": 6,
   "metadata": {
    "collapsed": true,
    "jupyter": {
     "outputs_hidden": true
    }
   },
   "outputs": [
    {
     "name": "stdout",
     "output_type": "stream",
     "text": [
      "1 + 2\n",
      "max?\n",
      "! cd\n",
      "%cd\n",
      "%pwd\n",
      "%history\n"
     ]
    }
   ],
   "source": [
    "%history"
   ]
  },
  {
   "cell_type": "code",
   "execution_count": 10,
   "metadata": {
    "collapsed": true,
    "jupyter": {
     "outputs_hidden": true
    }
   },
   "outputs": [
    {
     "data": {
      "text/plain": [
       "'C:\\\\Users\\\\srika'"
      ]
     },
     "execution_count": 10,
     "metadata": {},
     "output_type": "execute_result"
    }
   ],
   "source": [
    "%pwd"
   ]
  },
  {
   "cell_type": "code",
   "execution_count": 12,
   "metadata": {
    "collapsed": true,
    "jupyter": {
     "outputs_hidden": true
    }
   },
   "outputs": [
    {
     "name": "stdout",
     "output_type": "stream",
     "text": [
      "C:\\Users\\srika\n"
     ]
    }
   ],
   "source": [
    "! cd"
   ]
  },
  {
   "cell_type": "code",
   "execution_count": 13,
   "metadata": {
    "collapsed": true,
    "jupyter": {
     "outputs_hidden": true
    }
   },
   "outputs": [
    {
     "name": "stdout",
     "output_type": "stream",
     "text": [
      " Volume in drive C is OS\n",
      " Volume Serial Number is E43D-9E3F\n",
      "\n",
      " Directory of C:\\Users\\srika\n",
      "\n",
      "16-11-2019  17:10    <DIR>          .\n",
      "16-11-2019  17:10    <DIR>          ..\n",
      "22-01-2019  16:49    <DIR>          .anaconda\n",
      "24-06-2019  08:16                57 .angular-config.json\n",
      "02-10-2019  07:20    <DIR>          .conda\n",
      "02-10-2019  07:19                43 .condarc\n",
      "03-02-2018  07:39    <DIR>          .config\n",
      "25-02-2018  10:56             1,038 .csslintrc\n",
      "02-04-2019  09:17    <DIR>          .dotnet\n",
      "03-10-2019  10:53    <DIR>          .eclipse\n",
      "25-02-2018  10:56             1,570 .eslintrc\n",
      "29-01-2018  21:10                66 .gitconfig\n",
      "25-03-2019  07:44    <DIR>          .ipynb_checkpoints\n",
      "22-01-2019  16:51    <DIR>          .ipython\n",
      "23-01-2019  20:03    <DIR>          .jupyter\n",
      "04-10-2018  08:43    <DIR>          .m2\n",
      "23-08-2019  17:17    <DIR>          .matplotlib\n",
      "11-09-2019  08:06                10 .node_repl_history\n",
      "07-02-2018  09:10    <DIR>          .nuget\n",
      "15-11-2019  08:04    <DIR>          .p2\n",
      "24-06-2019  07:18    <DIR>          .PyCharmCE2019.1\n",
      "14-11-2019  17:15                 7 .python_history\n",
      "23-01-2019  20:29    <DIR>          .spyder-py3\n",
      "29-01-2018  18:15    <DIR>          .tooling\n",
      "03-02-2018  07:41    <DIR>          .vscode\n",
      "16-06-2019  08:32               226 16june.jsh\n",
      "14-06-2018  06:50    <DIR>          3D Objects\n",
      "26-08-2018  08:32               206 aug_26.txt\n",
      "31-07-2019  17:59               120 bash.exe.stackdump\n",
      "16-11-2019  17:10               379 cmd.txt.py\n",
      "23-04-2019  18:44               107 cmd1.txt\n",
      "25-02-2018  10:56             2,868 coffeelint.json\n",
      "22-08-2019  08:42         8,388,608 ConsoleApp.ef.BooksContext.mdf\n",
      "22-08-2019  08:42         8,388,608 ConsoleApp.ef.BooksContext_log.ldf\n",
      "14-06-2018  06:50    <DIR>          Contacts\n",
      "22-08-2019  08:42         8,388,608 csharpdemo.CF.BooksContext.mdf\n",
      "22-08-2019  08:42         8,388,608 csharpdemo.CF.BooksContext_log.ldf\n",
      "22-01-2019  20:56             8,640 demo.ipynb\n",
      "03-10-2019  11:10    <DIR>          Desktop\n",
      "15-11-2019  20:57    <DIR>          Documents\n",
      "15-11-2019  20:39    <DIR>          Downloads\n",
      "07-11-2019  17:52    <DIR>          Dropbox\n",
      "22-08-2019  08:42         8,388,608 EFCodeFirst.MyContext.mdf\n",
      "22-08-2019  08:42         8,388,608 EFCodeFirst.MyContext_log.ldf\n",
      "07-10-2019  17:52    <DIR>          Favorites\n",
      "06-06-2019  15:18    <DIR>          hsperfdata_srika\n",
      "14-06-2018  06:50    <DIR>          Links\n",
      "14-06-2018  06:50    <DIR>          Music\n",
      "01-08-2018  18:35               124 mycmd.txt\n",
      "02-11-2019  08:35    <DIR>          OneDrive\n",
      "29-01-2018  16:15    <DIR>          Oracle\n",
      "13-08-2019  16:46    <DIR>          Pictures\n",
      "20-06-2019  16:41    <DIR>          Postman\n",
      "05-05-2018  15:21    <DIR>          PycharmProjects\n",
      "14-06-2018  06:50    <DIR>          Saved Games\n",
      "06-11-2019  07:34    <DIR>          seaborn-data\n",
      "14-06-2018  06:50    <DIR>          Searches\n",
      "30-01-2018  07:28    <DIR>          source\n",
      "25-02-2018  10:56             1,881 tslint.json\n",
      "22-01-2019  16:53             6,520 Untitled.ipynb\n",
      "22-01-2019  20:23                72 Untitled1.ipynb\n",
      "04-03-2019  20:08               555 Untitled2.ipynb\n",
      "25-03-2019  07:46               729 Untitled3.ipynb\n",
      "14-06-2018  06:50    <DIR>          Videos\n",
      "              26 File(s)     50,356,866 bytes\n",
      "              38 Dir(s)  47,101,083,648 bytes free\n"
     ]
    }
   ],
   "source": [
    "! dir"
   ]
  },
  {
   "cell_type": "code",
   "execution_count": 14,
   "metadata": {
    "collapsed": true,
    "jupyter": {
     "outputs_hidden": true
    }
   },
   "outputs": [
    {
     "name": "stdout",
     "output_type": "stream",
     "text": [
      "e:\\classroom\\ds\\nov11\n"
     ]
    }
   ],
   "source": [
    "%cd e:\\classroom\\ds\\nov11"
   ]
  },
  {
   "cell_type": "code",
   "execution_count": 16,
   "metadata": {
    "collapsed": true,
    "jupyter": {
     "outputs_hidden": true
    }
   },
   "outputs": [
    {
     "data": {
      "text/plain": [
       "'e:\\\\classroom\\\\ds\\\\nov11'"
      ]
     },
     "execution_count": 16,
     "metadata": {},
     "output_type": "execute_result"
    }
   ],
   "source": [
    "%pwd"
   ]
  },
  {
   "cell_type": "code",
   "execution_count": 19,
   "metadata": {
    "collapsed": true,
    "jupyter": {
     "outputs_hidden": true
    }
   },
   "outputs": [
    {
     "data": {
      "text/plain": [
       "[' Volume in drive E is Courses',\n",
       " ' Volume Serial Number is BEEE-4DA8',\n",
       " '',\n",
       " ' Directory of e:\\\\classroom\\\\ds\\\\nov11',\n",
       " '',\n",
       " '16-11-2019  17:13    <DIR>          .',\n",
       " '16-11-2019  17:13    <DIR>          ..',\n",
       " '16-11-2019  08:02             1,371 .gitignore',\n",
       " '15-11-2019  17:47    <DIR>          .ipynb_checkpoints',\n",
       " '16-11-2019  17:13               737 cmd.py',\n",
       " '15-11-2019  17:48                32 names.txt',\n",
       " '16-11-2019  17:13            12,386 notebookdemo.ipynb',\n",
       " '16-11-2019  08:00                72 README.md',\n",
       " '16-11-2019  08:00               171 upload.bat',\n",
       " '               6 File(s)         14,769 bytes',\n",
       " '               3 Dir(s)  126,555,807,744 bytes free']"
      ]
     },
     "execution_count": 19,
     "metadata": {},
     "output_type": "execute_result"
    }
   ],
   "source": [
    "%system dir"
   ]
  },
  {
   "cell_type": "code",
   "execution_count": 21,
   "metadata": {
    "collapsed": true,
    "jupyter": {
     "outputs_hidden": true
    }
   },
   "outputs": [
    {
     "data": {
      "text/html": [
       "<h1>Introduction </h1>\n",
       "<h2>Syllabus</h2>\n"
      ],
      "text/plain": [
       "<IPython.core.display.HTML object>"
      ]
     },
     "metadata": {},
     "output_type": "display_data"
    }
   ],
   "source": [
    "%%HTML \n",
    "<h1>Introduction </h1>\n",
    "<h2>Syllabus</h2>"
   ]
  },
  {
   "cell_type": "code",
   "execution_count": 24,
   "metadata": {
    "collapsed": true,
    "jupyter": {
     "outputs_hidden": true
    }
   },
   "outputs": [
    {
     "name": "stdout",
     "output_type": "stream",
     "text": [
      "Overwriting names.txt\n"
     ]
    }
   ],
   "source": [
    "%%writefile names.txt\n",
    "Python\n",
    "Java\n",
    "C#\n",
    "JavaScript"
   ]
  },
  {
   "cell_type": "code",
   "execution_count": 25,
   "metadata": {
    "collapsed": true,
    "jupyter": {
     "outputs_hidden": true
    }
   },
   "outputs": [],
   "source": [
    "%%capture result\n",
    "for i in range(10):\n",
    "    print(i)"
   ]
  },
  {
   "cell_type": "code",
   "execution_count": 26,
   "metadata": {
    "collapsed": true,
    "jupyter": {
     "outputs_hidden": true
    }
   },
   "outputs": [
    {
     "data": {
      "text/plain": [
       "<IPython.utils.capture.CapturedIO at 0x2d974c50c88>"
      ]
     },
     "execution_count": 26,
     "metadata": {},
     "output_type": "execute_result"
    }
   ],
   "source": [
    "result"
   ]
  },
  {
   "cell_type": "code",
   "execution_count": 27,
   "metadata": {
    "collapsed": true,
    "jupyter": {
     "outputs_hidden": true
    }
   },
   "outputs": [
    {
     "data": {
      "text/plain": [
       "'0\\n1\\n2\\n3\\n4\\n5\\n6\\n7\\n8\\n9\\n'"
      ]
     },
     "execution_count": 27,
     "metadata": {},
     "output_type": "execute_result"
    }
   ],
   "source": [
    "result.stdout"
   ]
  },
  {
   "cell_type": "code",
   "execution_count": 42,
   "metadata": {
    "collapsed": true,
    "jupyter": {
     "outputs_hidden": true
    }
   },
   "outputs": [],
   "source": [
    "import numpy as np"
   ]
  },
  {
   "cell_type": "markdown",
   "metadata": {},
   "source": [
    "### timeit demo"
   ]
  },
  {
   "cell_type": "code",
   "execution_count": 41,
   "metadata": {
    "collapsed": true,
    "jupyter": {
     "outputs_hidden": true
    }
   },
   "outputs": [
    {
     "name": "stdout",
     "output_type": "stream",
     "text": [
      "1.97 ms ± 284 µs per loop (mean ± std. dev. of 7 runs, 10 loops each)\n"
     ]
    }
   ],
   "source": [
    "%%timeit -n 10\n",
    "lst = []\n",
    "for n in range(1,10000):\n",
    "     lst.append(n*n)"
   ]
  },
  {
   "cell_type": "code",
   "execution_count": 40,
   "metadata": {
    "collapsed": true,
    "jupyter": {
     "outputs_hidden": true
    }
   },
   "outputs": [
    {
     "name": "stdout",
     "output_type": "stream",
     "text": [
      "1.23 ms ± 231 µs per loop (mean ± std. dev. of 7 runs, 10 loops each)\n"
     ]
    }
   ],
   "source": [
    "%%timeit -n 10\n",
    "lst = [n*n for n in range(1,10000)]"
   ]
  },
  {
   "cell_type": "code",
   "execution_count": 54,
   "metadata": {
    "collapsed": true,
    "jupyter": {
     "outputs_hidden": true
    }
   },
   "outputs": [
    {
     "name": "stdout",
     "output_type": "stream",
     "text": [
      "39 µs ± 22.2 µs per loop (mean ± std. dev. of 7 runs, 10 loops each)\n"
     ]
    }
   ],
   "source": [
    "%%timeit -n 10\n",
    "a = np.arange(10000)\n",
    "a = a * a "
   ]
  },
  {
   "cell_type": "markdown",
   "metadata": {},
   "source": [
    "### Images"
   ]
  },
  {
   "cell_type": "markdown",
   "metadata": {},
   "source": [
    "<img src=\"http://www.srikanthtechnologies.com/logo.jpg\"/>"
   ]
  },
  {
   "cell_type": "code",
   "execution_count": 56,
   "metadata": {},
   "outputs": [
    {
     "data": {
      "text/html": [
       "<img src=\"http://www.srikanthtechnologies.com/logo.jpg\"/>"
      ],
      "text/plain": [
       "<IPython.core.display.Image object>"
      ]
     },
     "execution_count": 56,
     "metadata": {},
     "output_type": "execute_result"
    }
   ],
   "source": [
    "from IPython.display import Image\n",
    "Image(url=\"http://www.srikanthtechnologies.com/logo.jpg\")"
   ]
  },
  {
   "cell_type": "code",
   "execution_count": 58,
   "metadata": {
    "collapsed": true,
    "jupyter": {
     "outputs_hidden": true
    }
   },
   "outputs": [
    {
     "data": {
      "text/plain": [
       "['',\n",
       " '1 + 2',\n",
       " \"get_ipython().run_line_magic('pinfo', 'max')\",\n",
       " \"get_ipython().system(' cd')\",\n",
       " \"get_ipython().run_line_magic('cd', '')\",\n",
       " \"get_ipython().run_line_magic('pwd', '')\",\n",
       " \"get_ipython().run_line_magic('history', '')\",\n",
       " \"get_ipython().run_line_magic('save', 'cmd.txt')\",\n",
       " 'get_ipython().run_line_magic(\\'save\\', \"\\'cmd.txt\\'\")',\n",
       " \"get_ipython().run_line_magic('save', 'cmd.txt 1-10')\",\n",
       " \"get_ipython().run_line_magic('pwd', '')\",\n",
       " \"get_ipython().system('dir')\",\n",
       " \"get_ipython().system(' cd')\",\n",
       " \"get_ipython().system(' dir')\",\n",
       " \"get_ipython().run_line_magic('cd', 'e:\\\\\\\\classroom\\\\\\\\ds\\\\\\\\nov11')\",\n",
       " \"get_ipython().system('pwd')\",\n",
       " \"get_ipython().run_line_magic('pwd', '')\",\n",
       " \"get_ipython().run_line_magic('save', 'cmd')\",\n",
       " \"get_ipython().run_line_magic('save', 'cmd 1-20')\",\n",
       " \"get_ipython().run_line_magic('system', 'dir')\",\n",
       " \"get_ipython().system(' dir')\",\n",
       " \"get_ipython().run_cell_magic('HTML', '', '<h1>Introduction </h1>\\\\n<h2>Syllabus</h2>\\\\n')\",\n",
       " 'get_ipython().run_cell_magic(\\'js\\', \\'\\', \\'alert(\"JavaScript\")\\\\n\\')',\n",
       " 'get_ipython().run_cell_magic(\\'js\\', \\'\\', \\'alert(\"JavaScript\")\\\\n\\')',\n",
       " \"get_ipython().run_cell_magic('writefile', 'names.txt', 'Python\\\\nJava\\\\nC#\\\\nJavaScript\\\\n')\",\n",
       " \"get_ipython().run_cell_magic('capture', 'result', 'for i in range(10):\\\\n    print(i)\\\\n')\",\n",
       " 'result',\n",
       " 'result.stdout',\n",
       " \"get_ipython().run_cell_magic('timeit', '-n 10', 'lst = []\\\\nfor n in range(1,1000):\\\\n     lst.append(n*n)\\\\n')\",\n",
       " \"get_ipython().run_cell_magic('timeit', '-n 10', 'lst = []\\\\nfor n in range(1,1000):\\\\n     lst.append(n*n)\\\\n')\",\n",
       " \"get_ipython().run_cell_magic('timeit', '-n 10', 'lst = []\\\\nfor n in range(1,1000):\\\\n     lst.append(n*n)\\\\n')\",\n",
       " \"get_ipython().run_cell_magic('timeit', '-n 10', 'lst = []\\\\nfor n in range(1,1000):\\\\n     lst.append(n*n)\\\\n')\",\n",
       " \"get_ipython().run_cell_magic('timeit', '-n 10', 'lst = []\\\\nfor n in range(1,1000):\\\\n     lst.append(n*n)\\\\n')\",\n",
       " \"get_ipython().run_cell_magic('timeit', '-n 10', 'lst = [n*n for in range(1,1000)]     \\\\n')\",\n",
       " \"get_ipython().run_cell_magic('timeit', '-n 10', 'lst = [n*n for n in range(1,1000)]     \\\\n')\",\n",
       " \"get_ipython().run_cell_magic('timeit', '-n 10', 'lst = [n*n for n in range(1,1000)]     \\\\n')\",\n",
       " \"get_ipython().run_cell_magic('timeit', '-n 10', 'lst = [n*n for n in range(1,1000)]     |\\\\n')\",\n",
       " \"get_ipython().run_cell_magic('timeit', '-n 10', 'lst = [n*n for n in range(1,1000)]\\\\n')\",\n",
       " \"get_ipython().run_cell_magic('timeit', '-n 10', 'lst = []\\\\nfor n in range(1,10000):\\\\n     lst.append(n*n)\\\\n')\",\n",
       " \"get_ipython().run_cell_magic('timeit', '-n 10', 'lst = [n*n for n in range(1,10000)]\\\\n')\",\n",
       " \"get_ipython().run_cell_magic('timeit', '-n 10', 'lst = [n*n for n in range(1,10000)]\\\\n')\",\n",
       " \"get_ipython().run_cell_magic('timeit', '-n 10', 'lst = []\\\\nfor n in range(1,10000):\\\\n     lst.append(n*n)\\\\n')\",\n",
       " 'import numpy as np',\n",
       " \"get_ipython().run_cell_magic('timeit', '-n 10', 'a = np.arange(10000)\\\\n')\",\n",
       " \"get_ipython().run_cell_magic('timeit', '-n 10', 'a = np.arange(10000)\\\\na = a * a \\\\n')\",\n",
       " \"get_ipython().run_cell_magic('timeit', '-n 10', 'a = np.arange(10000)\\\\na = a * a \\\\n')\",\n",
       " \"get_ipython().run_cell_magic('timeit', '-n 10', 'a = np.arange(10000)\\\\na = a * a \\\\n')\",\n",
       " \"get_ipython().run_cell_magic('timeit', '-n 10', 'a = np.arange(10000)\\\\na = a * a \\\\n')\",\n",
       " \"get_ipython().run_cell_magic('timeit', '-n 10', 'a = np.arange(10000)\\\\na = a * a \\\\n')\",\n",
       " \"get_ipython().run_cell_magic('timeit', '-n 10', 'a = np.arange(10000)\\\\na = a * a \\\\na[:10]\\\\n')\",\n",
       " \"get_ipython().run_cell_magic('timeit', '-n 10', 'a = np.arange(10000)\\\\na = a * a \\\\nprint(a[:10])\\\\n')\",\n",
       " \"get_ipython().run_cell_magic('timeit', '-n 10', 'a = np.arange(10000)\\\\na = a * a \\\\n')\",\n",
       " 'print(a[:10])',\n",
       " \"get_ipython().run_cell_magic('timeit', '-n 10', 'a = np.arange(10000)\\\\na = a * a \\\\nprint(a[:10])\\\\n')\",\n",
       " \"get_ipython().run_cell_magic('timeit', '-n 10', 'a = np.arange(10000)\\\\na = a * a \\\\n')\",\n",
       " '<img src=\"http://www.srikanthtechnologies.com/logo.jpg\"/>',\n",
       " 'from IPython.display import Image\\nImage(url=\"http://www.srikanthtechnologies.com/logo.jpg\")',\n",
       " 'IN',\n",
       " 'In']"
      ]
     },
     "execution_count": 58,
     "metadata": {},
     "output_type": "execute_result"
    }
   ],
   "source": [
    "In"
   ]
  },
  {
   "cell_type": "code",
   "execution_count": 60,
   "metadata": {
    "collapsed": true,
    "jupyter": {
     "outputs_hidden": true
    }
   },
   "outputs": [
    {
     "data": {
      "text/plain": [
       "['from IPython.display import Image\\nImage(url=\"http://www.srikanthtechnologies.com/logo.jpg\")',\n",
       " 'IN',\n",
       " 'In',\n",
       " 'In[-1]',\n",
       " 'In[-5:]']"
      ]
     },
     "execution_count": 60,
     "metadata": {},
     "output_type": "execute_result"
    }
   ],
   "source": [
    "In[-5:]"
   ]
  },
  {
   "cell_type": "code",
   "execution_count": 63,
   "metadata": {
    "collapsed": true,
    "jupyter": {
     "outputs_hidden": true
    }
   },
   "outputs": [
    {
     "data": {
      "text/plain": [
       "3"
      ]
     },
     "execution_count": 63,
     "metadata": {},
     "output_type": "execute_result"
    }
   ],
   "source": [
    "Out[1]"
   ]
  },
  {
   "cell_type": "code",
   "execution_count": 64,
   "metadata": {
    "collapsed": true,
    "jupyter": {
     "outputs_hidden": true
    }
   },
   "outputs": [
    {
     "data": {
      "text/plain": [
       "'e:\\\\classroom\\\\ds\\\\nov11'"
      ]
     },
     "execution_count": 64,
     "metadata": {},
     "output_type": "execute_result"
    }
   ],
   "source": [
    "Out[16]"
   ]
  },
  {
   "cell_type": "code",
   "execution_count": 65,
   "metadata": {
    "collapsed": true,
    "jupyter": {
     "outputs_hidden": true
    }
   },
   "outputs": [
    {
     "data": {
      "text/plain": [
       "list"
      ]
     },
     "execution_count": 65,
     "metadata": {},
     "output_type": "execute_result"
    }
   ],
   "source": [
    "type(In)"
   ]
  },
  {
   "cell_type": "code",
   "execution_count": 66,
   "metadata": {
    "collapsed": true,
    "jupyter": {
     "outputs_hidden": true
    }
   },
   "outputs": [
    {
     "data": {
      "text/plain": [
       "dict"
      ]
     },
     "execution_count": 66,
     "metadata": {},
     "output_type": "execute_result"
    }
   ],
   "source": [
    "type(Out)"
   ]
  },
  {
   "cell_type": "code",
   "execution_count": 67,
   "metadata": {
    "collapsed": true,
    "jupyter": {
     "outputs_hidden": true
    }
   },
   "outputs": [
    {
     "data": {
      "text/plain": [
       "dict"
      ]
     },
     "execution_count": 67,
     "metadata": {},
     "output_type": "execute_result"
    }
   ],
   "source": [
    "Out[66]"
   ]
  },
  {
   "cell_type": "code",
   "execution_count": null,
   "metadata": {
    "collapsed": true,
    "jupyter": {
     "outputs_hidden": true
    }
   },
   "outputs": [],
   "source": []
  }
 ],
 "metadata": {
  "kernelspec": {
   "display_name": "Python 3",
   "language": "python",
   "name": "python3"
  },
  "language_info": {
   "codemirror_mode": {
    "name": "ipython",
    "version": 3
   },
   "file_extension": ".py",
   "mimetype": "text/x-python",
   "name": "python",
   "nbconvert_exporter": "python",
   "pygments_lexer": "ipython3",
   "version": "3.7.3"
  }
 },
 "nbformat": 4,
 "nbformat_minor": 4
}
